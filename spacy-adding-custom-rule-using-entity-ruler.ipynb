{
 "cells": [
  {
   "cell_type": "markdown",
   "id": "a5bb6f77",
   "metadata": {},
   "source": [
    "# Using Entity Ruler"
   ]
  },
  {
   "cell_type": "code",
   "execution_count": 2,
   "id": "0775358e",
   "metadata": {},
   "outputs": [],
   "source": [
    "## Load json \n",
    "patterns = [\n",
    "  {\n",
    "    \"label\": \"MEDICAL\",\n",
    "    \"pattern\": \"cardiology\"\n",
    "  },\n",
    "  {\n",
    "    \"label\": \"MEDICAL\",\n",
    "    \"pattern\": \"dermatology\"\n",
    "  },\n",
    "  {\n",
    "    \"label\": \"MEDICAL\",\n",
    "    \"pattern\": \"oncology\"\n",
    "  },\n",
    "  {\n",
    "    \"label\": \"MEDICAL\",\n",
    "    \"pattern\": \"pediatrics\"\n",
    "  },\n",
    "  {\n",
    "    \"label\": \"MEDICAL\",\n",
    "    \"pattern\": [\n",
    "      {\n",
    "        \"LOWER\": \"heart\"\n",
    "      },\n",
    "      {\n",
    "        \"LOWER\": \"disease\"\n",
    "      }\n",
    "    ]\n",
    "  },\n",
    "  {\n",
    "    \"label\": \"MEDICAL\",\n",
    "    \"pattern\": \"diabetes\"\n",
    "  },\n",
    "  {\n",
    "    \"label\": \"MEDICAL\",\n",
    "    \"pattern\": \"cancer\"\n",
    "  },\n",
    "  {\n",
    "    \"label\": \"MEDICAL\",\n",
    "    \"pattern\": \"influenza\"\n",
    "  },\n",
    "  {\n",
    "    \"label\": \"MEDICAL\",\n",
    "    \"pattern\": [\n",
    "      {\n",
    "        \"LOWER\": \"high\"\n",
    "      },\n",
    "      {\n",
    "        \"LOWER\": \"blood\"\n",
    "      },\n",
    "      {\n",
    "        \"LOWER\": \"pressure\"\n",
    "      }\n",
    "    ]\n",
    "  },\n",
    "  {\n",
    "    \"label\": \"MEDICAL\",\n",
    "    \"pattern\": \"headache\"\n",
    "  },\n",
    "  {\n",
    "    \"label\": \"MEDICAL\",\n",
    "    \"pattern\": \"fever\"\n",
    "  },\n",
    "  {\n",
    "    \"label\": \"MEDICAL\",\n",
    "    \"pattern\": \"cough\"\n",
    "  }\n",
    "]"
   ]
  },
  {
   "cell_type": "code",
   "execution_count": 3,
   "id": "60082211",
   "metadata": {},
   "outputs": [],
   "source": [
    "import spacy\n",
    "\n",
    "nlp = spacy.load(\"en_core_web_sm\")\n",
    "ruler = nlp.add_pipe(\"entity_ruler\")\n",
    "\n"
   ]
  },
  {
   "cell_type": "code",
   "execution_count": 4,
   "id": "362f4a3c",
   "metadata": {},
   "outputs": [
    {
     "name": "stdout",
     "output_type": "stream",
     "text": [
      "[('Peter', 'PERSON')]\n"
     ]
    },
    {
     "name": "stderr",
     "output_type": "stream",
     "text": [
      "/Users/siddhantmaharana/opt/anaconda3/lib/python3.9/site-packages/spacy/pipeline/entityruler.py:405: UserWarning: [W036] The component 'entity_ruler' does not have any patterns defined.\n",
      "  warnings.warn(Warnings.W036.format(name=self.name))\n"
     ]
    }
   ],
   "source": [
    "\n",
    "doc = nlp(\"Peter has been getting a headache\")\n",
    "print([(ent.text, ent.label_) for ent in doc.ents])"
   ]
  },
  {
   "cell_type": "markdown",
   "id": "c52683a0",
   "metadata": {},
   "source": [
    "## Adding pattern"
   ]
  },
  {
   "cell_type": "code",
   "execution_count": 6,
   "id": "85063de4",
   "metadata": {},
   "outputs": [],
   "source": [
    "ruler.add_patterns(patterns)"
   ]
  },
  {
   "cell_type": "code",
   "execution_count": 7,
   "id": "7a04c924",
   "metadata": {},
   "outputs": [
    {
     "name": "stdout",
     "output_type": "stream",
     "text": [
      "[('Peter', 'PERSON'), ('headache', 'MEDICAL')]\n"
     ]
    }
   ],
   "source": [
    "\n",
    "doc = nlp(\"Peter has been getting a headache\")\n",
    "print([(ent.text, ent.label_) for ent in doc.ents])"
   ]
  },
  {
   "cell_type": "code",
   "execution_count": null,
   "id": "c134e56a",
   "metadata": {},
   "outputs": [],
   "source": []
  }
 ],
 "metadata": {
  "kernelspec": {
   "display_name": "Python 3 (ipykernel)",
   "language": "python",
   "name": "python3"
  },
  "language_info": {
   "codemirror_mode": {
    "name": "ipython",
    "version": 3
   },
   "file_extension": ".py",
   "mimetype": "text/x-python",
   "name": "python",
   "nbconvert_exporter": "python",
   "pygments_lexer": "ipython3",
   "version": "3.9.13"
  }
 },
 "nbformat": 4,
 "nbformat_minor": 5
}
